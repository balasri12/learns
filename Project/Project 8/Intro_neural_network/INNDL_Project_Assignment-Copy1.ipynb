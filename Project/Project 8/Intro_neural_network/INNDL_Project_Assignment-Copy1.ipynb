{
 "cells": [
  {
   "cell_type": "markdown",
   "metadata": {},
   "source": [
    "# Data fetching and understand the train/val/test splits"
   ]
  },
  {
   "cell_type": "code",
   "execution_count": 1,
   "metadata": {},
   "outputs": [
    {
     "name": "stderr",
     "output_type": "stream",
     "text": [
      "C:\\Users\\Balajisri\\Anaconda3\\lib\\site-packages\\h5py\\__init__.py:36: FutureWarning: Conversion of the second argument of issubdtype from `float` to `np.floating` is deprecated. In future, it will be treated as `np.float64 == np.dtype(float).type`.\n",
      "  from ._conv import register_converters as _register_converters\n"
     ]
    }
   ],
   "source": [
    "import pandas as  pd\n",
    "import h5py"
   ]
  },
  {
   "cell_type": "code",
   "execution_count": 2,
   "metadata": {},
   "outputs": [
    {
     "name": "stdout",
     "output_type": "stream",
     "text": [
      "['X_test', 'X_train', 'X_val', 'y_test', 'y_train', 'y_val']\n"
     ]
    }
   ],
   "source": [
    "f1 = h5py.File('SVHN_single_grey1.h5', 'r')\n",
    "print(list(f1.keys()))"
   ]
  },
  {
   "cell_type": "code",
   "execution_count": 23,
   "metadata": {},
   "outputs": [
    {
     "name": "stdout",
     "output_type": "stream",
     "text": [
      "X_train Shape - (42000, 32, 32)\n",
      "y_train Shape - (42000,)\n",
      "X_val Shape - (60000, 32, 32)\n",
      "y_val Shape - (60000,)\n",
      "X_test Shape - (18000, 32, 32)\n",
      "y_test Shape - (18000,)\n"
     ]
    }
   ],
   "source": [
    "X_train = f1['X_train'][:]\n",
    "print(\"X_train Shape -\",X_train.shape)\n",
    "\n",
    "y_train = f1['y_train'][:]\n",
    "print(\"y_train Shape -\", y_train.shape)\n",
    "\n",
    "X_val = f1['X_val'][:]\n",
    "print(\"X_val Shape -\", X_val.shape)\n",
    "\n",
    "y_val = f1['y_val'][:]\n",
    "print(\"y_val Shape -\", y_val.shape)\n",
    "\n",
    "X_test = f1['X_test'][:]\n",
    "print(\"X_test Shape -\", X_test.shape)\n",
    "\n",
    "y_test = f1['y_test'][:]\n",
    "print(\"y_test Shape -\", y_test.shape)"
   ]
  },
  {
   "cell_type": "markdown",
   "metadata": {},
   "source": [
    "We have totally 3 set of data like train, validate and test with 42000, 60000 and 18000 accordingly. dataset has the shape of 32x32"
   ]
  },
  {
   "cell_type": "markdown",
   "metadata": {},
   "source": [
    "# Implement and apply an optimal k-Nearest Neighbor (kNN) classifier"
   ]
  },
  {
   "cell_type": "markdown",
   "metadata": {},
   "source": [
    "Converting the image dataset in format which can used to KNN classifier"
   ]
  },
  {
   "cell_type": "code",
   "execution_count": 4,
   "metadata": {},
   "outputs": [],
   "source": [
    "nsamples, nx, ny = X_train.shape\n",
    "X_train_2d = X_train.reshape((nsamples,nx*ny))\n",
    "\n",
    "nsamples, nx, ny = X_test.shape\n",
    "X_test_2d = X_test.reshape((nsamples,nx*ny))"
   ]
  },
  {
   "cell_type": "code",
   "execution_count": 5,
   "metadata": {},
   "outputs": [
    {
     "data": {
      "text/plain": [
       "KNeighborsClassifier(algorithm='auto', leaf_size=30, metric='minkowski',\n",
       "           metric_params=None, n_jobs=None, n_neighbors=10, p=2,\n",
       "           weights='uniform')"
      ]
     },
     "execution_count": 5,
     "metadata": {},
     "output_type": "execute_result"
    }
   ],
   "source": [
    "from sklearn.neighbors import KNeighborsClassifier\n",
    "neigh = KNeighborsClassifier(n_neighbors=10)\n",
    "neigh.fit(X_train_2d, y_train) "
   ]
  },
  {
   "cell_type": "code",
   "execution_count": 6,
   "metadata": {},
   "outputs": [],
   "source": [
    "pred = neigh.predict(X_test_2d)"
   ]
  },
  {
   "cell_type": "markdown",
   "metadata": {},
   "source": [
    "# Print the classification metric report"
   ]
  },
  {
   "cell_type": "code",
   "execution_count": 7,
   "metadata": {},
   "outputs": [
    {
     "name": "stdout",
     "output_type": "stream",
     "text": [
      "              precision    recall  f1-score   support\n",
      "\n",
      "           0       0.43      0.68      0.53      1814\n",
      "           1       0.46      0.74      0.56      1828\n",
      "           2       0.58      0.55      0.57      1803\n",
      "           3       0.42      0.42      0.42      1719\n",
      "           4       0.65      0.64      0.64      1812\n",
      "           5       0.49      0.38      0.43      1768\n",
      "           6       0.49      0.41      0.45      1832\n",
      "           7       0.73      0.60      0.66      1808\n",
      "           8       0.46      0.35      0.40      1812\n",
      "           9       0.56      0.40      0.46      1804\n",
      "\n",
      "   micro avg       0.52      0.52      0.52     18000\n",
      "   macro avg       0.53      0.52      0.51     18000\n",
      "weighted avg       0.53      0.52      0.51     18000\n",
      "\n"
     ]
    }
   ],
   "source": [
    "\n",
    "from sklearn.metrics import classification_report\n",
    "import numpy as np\n",
    "print(classification_report(y_test, pred))"
   ]
  },
  {
   "cell_type": "markdown",
   "metadata": {},
   "source": [
    "Seems like KNN model has accuracy around 50% with K = 10."
   ]
  },
  {
   "cell_type": "markdown",
   "metadata": {},
   "source": [
    "# Implement and apply a deep neural network classifier including"
   ]
  },
  {
   "cell_type": "code",
   "execution_count": 4,
   "metadata": {},
   "outputs": [
    {
     "name": "stderr",
     "output_type": "stream",
     "text": [
      "Using TensorFlow backend.\n"
     ]
    }
   ],
   "source": [
    "from keras.callbacks import EarlyStopping\n",
    "import tensorflow as tf\n",
    "from tensorflow.keras.layers import Reshape, BatchNormalization, Dense, Dropout\n",
    "from tensorflow.keras.models import Sequential"
   ]
  },
  {
   "cell_type": "code",
   "execution_count": 19,
   "metadata": {},
   "outputs": [],
   "source": [
    "y_train = tf.keras.utils.to_categorical(y_train, num_classes=10)\n",
    "y_val = tf.keras.utils.to_categorical(y_val, num_classes=10)\n",
    "y_test = tf.keras.utils.to_categorical(y_test, num_classes=10)"
   ]
  },
  {
   "cell_type": "markdown",
   "metadata": {},
   "source": [
    "# Understand and be able to implement (vectorized) backpropagation \n",
    "# Implement batch normalization for training the neural network"
   ]
  },
  {
   "cell_type": "code",
   "execution_count": 20,
   "metadata": {},
   "outputs": [
    {
     "name": "stdout",
     "output_type": "stream",
     "text": [
      "_________________________________________________________________\n",
      "Layer (type)                 Output Shape              Param #   \n",
      "=================================================================\n",
      "reshape_3 (Reshape)          (None, 1024)              0         \n",
      "_________________________________________________________________\n",
      "batch_normalization_6 (Batch (None, 1024)              4096      \n",
      "_________________________________________________________________\n",
      "dense_6 (Dense)              (None, 1000)              1025000   \n",
      "_________________________________________________________________\n",
      "batch_normalization_7 (Batch (None, 1000)              4000      \n",
      "_________________________________________________________________\n",
      "dropout_3 (Dropout)          (None, 1000)              0         \n",
      "_________________________________________________________________\n",
      "dense_7 (Dense)              (None, 10)                10010     \n",
      "=================================================================\n",
      "Total params: 1,043,106\n",
      "Trainable params: 1,039,058\n",
      "Non-trainable params: 4,048\n",
      "_________________________________________________________________\n"
     ]
    }
   ],
   "source": [
    "mnist_model = Sequential()\n",
    "mnist_model.add(Reshape((1024,),input_shape=(32,32,)))\n",
    "mnist_model.add(BatchNormalization())\n",
    "mnist_model.add(Dense(100, activation='relu'))\n",
    "mnist_model.add(BatchNormalization())\n",
    "mnist_model.add(Dropout(0.25))\n",
    "mnist_model.add(Dense(10, activation='softmax'))\n",
    "mnist_model.compile(optimizer='sgd', loss='categorical_crossentropy', metrics=['accuracy'])\n",
    "mnist_model.summary()"
   ]
  },
  {
   "cell_type": "code",
   "execution_count": 21,
   "metadata": {},
   "outputs": [
    {
     "name": "stdout",
     "output_type": "stream",
     "text": [
      "Train on 42000 samples, validate on 60000 samples\n",
      "Epoch 1/50\n",
      "42000/42000 [==============================] - 7s 159us/step - loss: 2.0012 - acc: 0.3755 - val_loss: 1.3153 - val_acc: 0.5861\n",
      "Epoch 2/50\n",
      "42000/42000 [==============================] - 6s 146us/step - loss: 1.4001 - acc: 0.5490 - val_loss: 0.9172 - val_acc: 0.7307\n",
      "Epoch 3/50\n",
      "42000/42000 [==============================] - 6s 146us/step - loss: 1.2342 - acc: 0.6013 - val_loss: 0.8355 - val_acc: 0.7533\n",
      "Epoch 4/50\n",
      "42000/42000 [==============================] - 6s 147us/step - loss: 1.1473 - acc: 0.6351 - val_loss: 0.8046 - val_acc: 0.7619\n",
      "Epoch 5/50\n",
      "42000/42000 [==============================] - 6s 147us/step - loss: 1.0734 - acc: 0.6587 - val_loss: 0.7160 - val_acc: 0.7938\n",
      "Epoch 6/50\n",
      "42000/42000 [==============================] - 6s 147us/step - loss: 1.0298 - acc: 0.6761 - val_loss: 0.6787 - val_acc: 0.8063\n",
      "Epoch 7/50\n",
      "42000/42000 [==============================] - 6s 146us/step - loss: 0.9838 - acc: 0.6904 - val_loss: 0.6682 - val_acc: 0.8065\n",
      "Epoch 8/50\n",
      "42000/42000 [==============================] - 6s 147us/step - loss: 0.9669 - acc: 0.6964 - val_loss: 0.6515 - val_acc: 0.8106\n",
      "Epoch 9/50\n",
      "42000/42000 [==============================] - 6s 146us/step - loss: 0.9356 - acc: 0.7054 - val_loss: 0.6739 - val_acc: 0.8006\n",
      "Epoch 10/50\n",
      "42000/42000 [==============================] - 6s 146us/step - loss: 0.9109 - acc: 0.7161 - val_loss: 0.6164 - val_acc: 0.8217\n",
      "Epoch 11/50\n",
      "42000/42000 [==============================] - 6s 147us/step - loss: 0.8945 - acc: 0.7179 - val_loss: 0.5824 - val_acc: 0.8366\n",
      "Epoch 12/50\n",
      "42000/42000 [==============================] - 6s 147us/step - loss: 0.8732 - acc: 0.7269 - val_loss: 0.5782 - val_acc: 0.8387\n",
      "Epoch 13/50\n",
      "42000/42000 [==============================] - 6s 147us/step - loss: 0.8625 - acc: 0.7286 - val_loss: 0.5578 - val_acc: 0.8468\n",
      "Epoch 14/50\n",
      "42000/42000 [==============================] - 6s 147us/step - loss: 0.8524 - acc: 0.7334 - val_loss: 0.5478 - val_acc: 0.8496\n",
      "Epoch 15/50\n",
      "42000/42000 [==============================] - 6s 146us/step - loss: 0.8258 - acc: 0.7410 - val_loss: 0.5355 - val_acc: 0.8547\n",
      "Epoch 16/50\n",
      "42000/42000 [==============================] - 6s 147us/step - loss: 0.8142 - acc: 0.7451 - val_loss: 0.5393 - val_acc: 0.8512\n",
      "Epoch 17/50\n",
      "42000/42000 [==============================] - 6s 146us/step - loss: 0.8094 - acc: 0.7462 - val_loss: 0.5236 - val_acc: 0.8569\n",
      "Epoch 18/50\n",
      "42000/42000 [==============================] - 6s 147us/step - loss: 0.7935 - acc: 0.7528 - val_loss: 0.5351 - val_acc: 0.8514\n",
      "Epoch 19/50\n",
      "42000/42000 [==============================] - 6s 147us/step - loss: 0.7862 - acc: 0.7544 - val_loss: 0.5155 - val_acc: 0.8593\n",
      "Epoch 20/50\n",
      "42000/42000 [==============================] - 6s 148us/step - loss: 0.7811 - acc: 0.7566 - val_loss: 0.5332 - val_acc: 0.8517\n",
      "Epoch 21/50\n",
      "42000/42000 [==============================] - 6s 146us/step - loss: 0.7702 - acc: 0.7609 - val_loss: 0.5166 - val_acc: 0.8576\n",
      "Epoch 22/50\n",
      "42000/42000 [==============================] - 6s 147us/step - loss: 0.7714 - acc: 0.7591 - val_loss: 0.5200 - val_acc: 0.8589\n",
      "Epoch 23/50\n",
      "42000/42000 [==============================] - 6s 147us/step - loss: 0.7631 - acc: 0.7630 - val_loss: 0.4970 - val_acc: 0.8666\n",
      "Epoch 24/50\n",
      "42000/42000 [==============================] - 6s 147us/step - loss: 0.7563 - acc: 0.7630 - val_loss: 0.5047 - val_acc: 0.8621\n",
      "Epoch 25/50\n",
      "42000/42000 [==============================] - 6s 147us/step - loss: 0.7437 - acc: 0.7648 - val_loss: 0.4958 - val_acc: 0.8651\n",
      "Epoch 26/50\n",
      "42000/42000 [==============================] - 6s 147us/step - loss: 0.7443 - acc: 0.7671 - val_loss: 0.4838 - val_acc: 0.8694\n",
      "Epoch 27/50\n",
      "42000/42000 [==============================] - 6s 147us/step - loss: 0.7355 - acc: 0.7709 - val_loss: 0.4711 - val_acc: 0.8758\n",
      "Epoch 28/50\n",
      "42000/42000 [==============================] - 6s 147us/step - loss: 0.7274 - acc: 0.7733 - val_loss: 0.4717 - val_acc: 0.8742\n",
      "Epoch 29/50\n",
      "42000/42000 [==============================] - 6s 147us/step - loss: 0.7171 - acc: 0.7763 - val_loss: 0.4695 - val_acc: 0.8766\n",
      "Epoch 30/50\n",
      "42000/42000 [==============================] - 6s 147us/step - loss: 0.7151 - acc: 0.7750 - val_loss: 0.4703 - val_acc: 0.8732\n",
      "Epoch 31/50\n",
      "42000/42000 [==============================] - 6s 147us/step - loss: 0.7160 - acc: 0.7763 - val_loss: 0.4639 - val_acc: 0.8775\n",
      "Epoch 32/50\n",
      "42000/42000 [==============================] - 6s 146us/step - loss: 0.7240 - acc: 0.7733 - val_loss: 0.4577 - val_acc: 0.8776\n",
      "Epoch 33/50\n",
      "42000/42000 [==============================] - 6s 147us/step - loss: 0.7096 - acc: 0.7760 - val_loss: 0.4609 - val_acc: 0.8768\n",
      "Epoch 34/50\n",
      "42000/42000 [==============================] - 6s 146us/step - loss: 0.7004 - acc: 0.7793 - val_loss: 0.4503 - val_acc: 0.8817\n",
      "Epoch 35/50\n",
      "42000/42000 [==============================] - 6s 147us/step - loss: 0.6955 - acc: 0.7829 - val_loss: 0.4600 - val_acc: 0.8762\n",
      "Epoch 36/50\n",
      "42000/42000 [==============================] - 6s 147us/step - loss: 0.6960 - acc: 0.7810 - val_loss: 0.4542 - val_acc: 0.8788\n",
      "Epoch 37/50\n",
      "42000/42000 [==============================] - 6s 146us/step - loss: 0.6838 - acc: 0.7855 - val_loss: 0.4523 - val_acc: 0.8790\n",
      "Epoch 38/50\n",
      "42000/42000 [==============================] - 6s 147us/step - loss: 0.6857 - acc: 0.7876 - val_loss: 0.4425 - val_acc: 0.8842\n",
      "Epoch 39/50\n",
      "42000/42000 [==============================] - 6s 147us/step - loss: 0.6850 - acc: 0.7879 - val_loss: 0.4421 - val_acc: 0.8851\n",
      "Epoch 40/50\n",
      "42000/42000 [==============================] - 6s 146us/step - loss: 0.6749 - acc: 0.7897 - val_loss: 0.4304 - val_acc: 0.8887\n",
      "Epoch 41/50\n",
      "42000/42000 [==============================] - 7s 162us/step - loss: 0.6737 - acc: 0.7895 - val_loss: 0.4407 - val_acc: 0.8835\n",
      "Epoch 42/50\n",
      "42000/42000 [==============================] - 7s 160us/step - loss: 0.6690 - acc: 0.7898 - val_loss: 0.4593 - val_acc: 0.8749\n",
      "Epoch 43/50\n",
      "42000/42000 [==============================] - 7s 159us/step - loss: 0.6761 - acc: 0.7880 - val_loss: 0.4360 - val_acc: 0.8860\n",
      "Epoch 44/50\n",
      "42000/42000 [==============================] - 7s 158us/step - loss: 0.6659 - acc: 0.7948 - val_loss: 0.4464 - val_acc: 0.8801\n",
      "Epoch 45/50\n",
      "42000/42000 [==============================] - 7s 157us/step - loss: 0.6657 - acc: 0.7916 - val_loss: 0.4319 - val_acc: 0.8858\n"
     ]
    },
    {
     "data": {
      "text/plain": [
       "<tensorflow.python.keras.callbacks.History at 0x23426362a58>"
      ]
     },
     "execution_count": 21,
     "metadata": {},
     "output_type": "execute_result"
    }
   ],
   "source": [
    "early_stopping = EarlyStopping(monitor='val_loss', patience=5, mode='min')\n",
    "mnist_model.fit(X_train,y_train,\n",
    "          validation_data=(X_val, y_val),\n",
    "          epochs=50,\n",
    "          batch_size=32, callbacks=[early_stopping])"
   ]
  },
  {
   "cell_type": "code",
   "execution_count": 10,
   "metadata": {},
   "outputs": [
    {
     "data": {
      "text/plain": [
       "array([0, 7, 2, ..., 7, 9, 2], dtype=int64)"
      ]
     },
     "execution_count": 10,
     "metadata": {},
     "output_type": "execute_result"
    }
   ],
   "source": [
    "pred = mnist_model.predict_classes(X_test)\n",
    "pred"
   ]
  },
  {
   "cell_type": "code",
   "execution_count": 11,
   "metadata": {},
   "outputs": [
    {
     "data": {
      "text/plain": [
       "(18000, 10)"
      ]
     },
     "execution_count": 11,
     "metadata": {},
     "output_type": "execute_result"
    }
   ],
   "source": [
    "y_test.shape"
   ]
  },
  {
   "cell_type": "code",
   "execution_count": 15,
   "metadata": {},
   "outputs": [
    {
     "data": {
      "text/plain": [
       "array([[1630,   36,    6,   18,   14,    3,   23,   25,   20,   39],\n",
       "       [  40, 1607,   13,   24,   50,    7,   10,   42,   22,   13],\n",
       "       [  24,   52, 1511,   26,   24,   13,    1,   69,   29,   54],\n",
       "       [  23,   40,   31, 1338,   17,  143,   12,   29,   51,   35],\n",
       "       [  31,   65,   26,   12, 1564,   21,   17,   11,   15,   50],\n",
       "       [  17,   28,   14,   66,   11, 1476,   52,   10,   49,   45],\n",
       "       [  63,   31,   12,   26,   32,   72, 1460,   12,  106,   18],\n",
       "       [  30,   83,   32,   13,   13,    6,    7, 1587,   18,   19],\n",
       "       [  37,   52,   22,   38,   21,   40,   91,   11, 1431,   69],\n",
       "       [  65,   40,   24,   40,   17,   34,   17,   19,   50, 1498]],\n",
       "      dtype=int64)"
      ]
     },
     "execution_count": 15,
     "metadata": {},
     "output_type": "execute_result"
    }
   ],
   "source": [
    "from sklearn.metrics import confusion_matrix\n",
    "confusion_matrix(y_test, pred)"
   ]
  },
  {
   "cell_type": "code",
   "execution_count": 17,
   "metadata": {},
   "outputs": [],
   "source": [
    "names = np.unique(y_test)"
   ]
  },
  {
   "cell_type": "code",
   "execution_count": 24,
   "metadata": {},
   "outputs": [
    {
     "name": "stdout",
     "output_type": "stream",
     "text": [
      "              precision    recall  f1-score   support\n",
      "\n",
      "           0       0.83      0.90      0.86      1814\n",
      "           1       0.79      0.88      0.83      1828\n",
      "           2       0.89      0.84      0.86      1803\n",
      "           3       0.84      0.78      0.81      1719\n",
      "           4       0.89      0.86      0.87      1812\n",
      "           5       0.81      0.83      0.82      1768\n",
      "           6       0.86      0.80      0.83      1832\n",
      "           7       0.87      0.88      0.88      1808\n",
      "           8       0.80      0.79      0.79      1812\n",
      "           9       0.81      0.83      0.82      1804\n",
      "\n",
      "   micro avg       0.84      0.84      0.84     18000\n",
      "   macro avg       0.84      0.84      0.84     18000\n",
      "weighted avg       0.84      0.84      0.84     18000\n",
      "\n"
     ]
    }
   ],
   "source": [
    "from sklearn.metrics import classification_report\n",
    "import numpy as np\n",
    "print(classification_report(y_test, pred))"
   ]
  },
  {
   "cell_type": "code",
   "execution_count": 25,
   "metadata": {},
   "outputs": [
    {
     "data": {
      "text/plain": [
       "<matplotlib.image.AxesImage at 0x23422699c50>"
      ]
     },
     "execution_count": 25,
     "metadata": {},
     "output_type": "execute_result"
    },
    {
     "data": {
      "image/png": "[encoded data removed]",
      "text/plain": [
       "<Figure size 432x288 with 1 Axes>"
      ]
     },
     "metadata": {},
     "output_type": "display_data"
    }
   ],
   "source": [
    "import matplotlib.pyplot as plt\n",
    "%matplotlib inline\n",
    "plt.imshow(X_test[609])"
   ]
  },
  {
   "cell_type": "code",
   "execution_count": 20,
   "metadata": {},
   "outputs": [
    {
     "data": {
      "text/plain": [
       "array([6], dtype=int64)"
      ]
     },
     "execution_count": 20,
     "metadata": {},
     "output_type": "execute_result"
    }
   ],
   "source": [
    "mnist_model.predict_classes(np.reshape(X_test[609],(-1,32,32)))"
   ]
  },
  {
   "cell_type": "markdown",
   "metadata": {},
   "source": [
    "# Conclusion"
   ]
  },
  {
   "cell_type": "markdown",
   "metadata": {},
   "source": [
    "Neural Network performance well when compared with tradition machine learning model - KNN. "
   ]
  },
  {
   "cell_type": "markdown",
   "metadata": {},
   "source": [
    "Accuracy: \n",
    " - KNN has the accuracy around 50%\n",
    " - Neural Network has the accuracy around 85%"
   ]
  },
  {
   "cell_type": "markdown",
   "metadata": {},
   "source": [
    "Also KNN model is slow while predicting when compared but Neural network is fast and more accurate."
   ]
  },
  {
   "cell_type": "code",
   "execution_count": null,
   "metadata": {},
   "outputs": [],
   "source": []
  }
 ],
 "metadata": {
  "kernelspec": {
   "display_name": "Python 3",
   "language": "python",
   "name": "python3"
  },
  "language_info": {
   "codemirror_mode": {
    "name": "ipython",
    "version": 3
   },
   "file_extension": ".py",
   "mimetype": "text/x-python",
   "name": "python",
   "nbconvert_exporter": "python",
   "pygments_lexer": "ipython3",
   "version": "3.6.5"
  }
 },
 "nbformat": 4,
 "nbformat_minor": 2
}
