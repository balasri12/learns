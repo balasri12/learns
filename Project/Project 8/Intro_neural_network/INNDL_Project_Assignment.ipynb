{
 "cells": [
  {
   "cell_type": "markdown",
   "metadata": {},
   "source": [
    "# Data fetching and understand the train/val/test splits"
   ]
  },
  {
   "cell_type": "code",
   "execution_count": 1,
   "metadata": {},
   "outputs": [
    {
     "name": "stderr",
     "output_type": "stream",
     "text": [
      "C:\\Users\\Balajisri\\Anaconda3\\lib\\site-packages\\h5py\\__init__.py:36: FutureWarning: Conversion of the second argument of issubdtype from `float` to `np.floating` is deprecated. In future, it will be treated as `np.float64 == np.dtype(float).type`.\n",
      "  from ._conv import register_converters as _register_converters\n"
     ]
    }
   ],
   "source": [
    "import pandas as  pd\n",
    "import h5py"
   ]
  },
  {
   "cell_type": "code",
   "execution_count": 2,
   "metadata": {},
   "outputs": [
    {
     "name": "stdout",
     "output_type": "stream",
     "text": [
      "['X_test', 'X_train', 'X_val', 'y_test', 'y_train', 'y_val']\n"
     ]
    }
   ],
   "source": [
    "f1 = h5py.File('SVHN_single_grey1.h5', 'r')\n",
    "print(list(f1.keys()))"
   ]
  },
  {
   "cell_type": "code",
   "execution_count": 15,
   "metadata": {},
   "outputs": [
    {
     "name": "stdout",
     "output_type": "stream",
     "text": [
      "X_train Shape - (42000, 32, 32)\n",
      "y_train Shape - (42000,)\n",
      "X_val Shape - (60000, 32, 32)\n",
      "y_val Shape - (60000,)\n",
      "X_test Shape - (18000, 32, 32)\n",
      "y_test Shape - (18000,)\n"
     ]
    }
   ],
   "source": [
    "X_train = f1['X_train'][:]\n",
    "print(\"X_train Shape -\",X_train.shape)\n",
    "\n",
    "y_train = f1['y_train'][:]\n",
    "print(\"y_train Shape -\", y_train.shape)\n",
    "\n",
    "X_val = f1['X_val'][:]\n",
    "print(\"X_val Shape -\", X_val.shape)\n",
    "\n",
    "y_val = f1['y_val'][:]\n",
    "print(\"y_val Shape -\", y_val.shape)\n",
    "\n",
    "X_test = f1['X_test'][:]\n",
    "print(\"X_test Shape -\", X_test.shape)\n",
    "\n",
    "y_test = f1['y_test'][:]\n",
    "print(\"y_test Shape -\", y_test.shape)"
   ]
  },
  {
   "cell_type": "markdown",
   "metadata": {},
   "source": [
    "We have totally 3 set of data like train, validate and test with 42000, 60000 and 18000 accordingly. dataset has the shape of 32x32"
   ]
  },
  {
   "cell_type": "markdown",
   "metadata": {},
   "source": [
    "# Implement and apply an optimal k-Nearest Neighbor (kNN) classifier"
   ]
  },
  {
   "cell_type": "markdown",
   "metadata": {},
   "source": [
    "Converting the image dataset in format which can used to KNN classifier"
   ]
  },
  {
   "cell_type": "code",
   "execution_count": 4,
   "metadata": {},
   "outputs": [],
   "source": [
    "nsamples, nx, ny = X_train.shape\n",
    "X_train_2d = X_train.reshape((nsamples,nx*ny))\n",
    "\n",
    "nsamples, nx, ny = X_test.shape\n",
    "X_test_2d = X_test.reshape((nsamples,nx*ny))"
   ]
  },
  {
   "cell_type": "code",
   "execution_count": 5,
   "metadata": {},
   "outputs": [
    {
     "data": {
      "text/plain": [
       "KNeighborsClassifier(algorithm='auto', leaf_size=30, metric='minkowski',\n",
       "           metric_params=None, n_jobs=None, n_neighbors=10, p=2,\n",
       "           weights='uniform')"
      ]
     },
     "execution_count": 5,
     "metadata": {},
     "output_type": "execute_result"
    }
   ],
   "source": [
    "from sklearn.neighbors import KNeighborsClassifier\n",
    "neigh = KNeighborsClassifier(n_neighbors=10)\n",
    "neigh.fit(X_train_2d, y_train) "
   ]
  },
  {
   "cell_type": "code",
   "execution_count": 6,
   "metadata": {},
   "outputs": [],
   "source": [
    "pred = neigh.predict(X_test_2d)"
   ]
  },
  {
   "cell_type": "markdown",
   "metadata": {},
   "source": [
    "# Print the classification metric report"
   ]
  },
  {
   "cell_type": "code",
   "execution_count": 7,
   "metadata": {},
   "outputs": [
    {
     "name": "stdout",
     "output_type": "stream",
     "text": [
      "              precision    recall  f1-score   support\n",
      "\n",
      "           0       0.43      0.68      0.53      1814\n",
      "           1       0.46      0.74      0.56      1828\n",
      "           2       0.58      0.55      0.57      1803\n",
      "           3       0.42      0.42      0.42      1719\n",
      "           4       0.65      0.64      0.64      1812\n",
      "           5       0.49      0.38      0.43      1768\n",
      "           6       0.49      0.41      0.45      1832\n",
      "           7       0.73      0.60      0.66      1808\n",
      "           8       0.46      0.35      0.40      1812\n",
      "           9       0.56      0.40      0.46      1804\n",
      "\n",
      "   micro avg       0.52      0.52      0.52     18000\n",
      "   macro avg       0.53      0.52      0.51     18000\n",
      "weighted avg       0.53      0.52      0.51     18000\n",
      "\n"
     ]
    }
   ],
   "source": [
    "\n",
    "from sklearn.metrics import classification_report\n",
    "import numpy as np\n",
    "print(classification_report(y_test, pred))"
   ]
  },
  {
   "cell_type": "markdown",
   "metadata": {},
   "source": [
    "Seems like KNN model has accuracy around 50% with K = 10."
   ]
  },
  {
   "cell_type": "markdown",
   "metadata": {},
   "source": [
    "# Implement and apply a deep neural network classifier including"
   ]
  },
  {
   "cell_type": "code",
   "execution_count": 8,
   "metadata": {},
   "outputs": [
    {
     "name": "stderr",
     "output_type": "stream",
     "text": [
      "Using TensorFlow backend.\n"
     ]
    }
   ],
   "source": [
    "from keras.callbacks import EarlyStopping\n",
    "import tensorflow as tf\n",
    "from tensorflow.keras.layers import Reshape, BatchNormalization, Dense, Dropout\n",
    "from tensorflow.keras.models import Sequential"
   ]
  },
  {
   "cell_type": "code",
   "execution_count": 9,
   "metadata": {},
   "outputs": [],
   "source": [
    "y_train = tf.keras.utils.to_categorical(y_train, num_classes=10)\n",
    "y_val = tf.keras.utils.to_categorical(y_val, num_classes=10)\n",
    "y_test = tf.keras.utils.to_categorical(y_test, num_classes=10)"
   ]
  },
  {
   "cell_type": "markdown",
   "metadata": {},
   "source": [
    "# Understand and be able to implement (vectorized) backpropagation \n",
    "# Implement batch normalization for training the neural network"
   ]
  },
  {
   "cell_type": "code",
   "execution_count": 10,
   "metadata": {},
   "outputs": [
    {
     "name": "stdout",
     "output_type": "stream",
     "text": [
      "_________________________________________________________________\n",
      "Layer (type)                 Output Shape              Param #   \n",
      "=================================================================\n",
      "reshape (Reshape)            (None, 1024)              0         \n",
      "_________________________________________________________________\n",
      "batch_normalization (BatchNo (None, 1024)              4096      \n",
      "_________________________________________________________________\n",
      "dense (Dense)                (None, 200)               205000    \n",
      "_________________________________________________________________\n",
      "batch_normalization_1 (Batch (None, 200)               800       \n",
      "_________________________________________________________________\n",
      "dense_1 (Dense)              (None, 100)               20100     \n",
      "_________________________________________________________________\n",
      "batch_normalization_2 (Batch (None, 100)               400       \n",
      "_________________________________________________________________\n",
      "dropout (Dropout)            (None, 100)               0         \n",
      "_________________________________________________________________\n",
      "dense_2 (Dense)              (None, 10)                1010      \n",
      "=================================================================\n",
      "Total params: 231,406\n",
      "Trainable params: 228,758\n",
      "Non-trainable params: 2,648\n",
      "_________________________________________________________________\n"
     ]
    }
   ],
   "source": [
    "mnist_model = Sequential()\n",
    "mnist_model.add(Reshape((1024,),input_shape=(32,32,)))\n",
    "mnist_model.add(BatchNormalization())\n",
    "mnist_model.add(Dense(200, activation='relu'))\n",
    "mnist_model.add(BatchNormalization())\n",
    "mnist_model.add(Dense(100, activation='relu'))\n",
    "mnist_model.add(BatchNormalization())\n",
    "mnist_model.add(Dropout(0.25))\n",
    "mnist_model.add(Dense(10, activation='softmax'))\n",
    "mnist_model.compile(optimizer='sgd', loss='categorical_crossentropy', metrics=['accuracy'])\n",
    "mnist_model.summary()"
   ]
  },
  {
   "cell_type": "code",
   "execution_count": 11,
   "metadata": {},
   "outputs": [
    {
     "name": "stdout",
     "output_type": "stream",
     "text": [
      "Train on 42000 samples, validate on 60000 samples\n",
      "Epoch 1/50\n",
      "42000/42000 [==============================] - 11s 272us/step - loss: 1.7948 - acc: 0.3968 - val_loss: 1.1362 - val_acc: 0.6545\n",
      "Epoch 2/50\n",
      "42000/42000 [==============================] - 7s 159us/step - loss: 1.2761 - acc: 0.5878 - val_loss: 0.9868 - val_acc: 0.7018\n",
      "Epoch 3/50\n",
      "42000/42000 [==============================] - 7s 158us/step - loss: 1.1233 - acc: 0.6380 - val_loss: 0.8276 - val_acc: 0.7518\n",
      "Epoch 4/50\n",
      "42000/42000 [==============================] - 7s 158us/step - loss: 1.0418 - acc: 0.6664 - val_loss: 0.7838 - val_acc: 0.7646\n",
      "Epoch 5/50\n",
      "42000/42000 [==============================] - 7s 158us/step - loss: 0.9801 - acc: 0.6879 - val_loss: 0.6937 - val_acc: 0.7953\n",
      "Epoch 6/50\n",
      "42000/42000 [==============================] - 7s 158us/step - loss: 0.9354 - acc: 0.7034 - val_loss: 0.6739 - val_acc: 0.8010\n",
      "Epoch 7/50\n",
      "42000/42000 [==============================] - 7s 158us/step - loss: 0.8974 - acc: 0.7141 - val_loss: 0.7082 - val_acc: 0.7864\n",
      "Epoch 8/50\n",
      "42000/42000 [==============================] - 7s 159us/step - loss: 0.8607 - acc: 0.7255 - val_loss: 0.6166 - val_acc: 0.8153\n",
      "Epoch 9/50\n",
      "42000/42000 [==============================] - 7s 160us/step - loss: 0.8370 - acc: 0.7354 - val_loss: 0.5956 - val_acc: 0.8257\n",
      "Epoch 10/50\n",
      "42000/42000 [==============================] - 7s 159us/step - loss: 0.8162 - acc: 0.7396 - val_loss: 0.6287 - val_acc: 0.8076\n",
      "Epoch 11/50\n",
      "42000/42000 [==============================] - 7s 159us/step - loss: 0.7968 - acc: 0.7480 - val_loss: 0.5898 - val_acc: 0.8202\n",
      "Epoch 12/50\n",
      "42000/42000 [==============================] - 7s 159us/step - loss: 0.7830 - acc: 0.7505 - val_loss: 0.5486 - val_acc: 0.8350\n",
      "Epoch 13/50\n",
      "42000/42000 [==============================] - 7s 158us/step - loss: 0.7568 - acc: 0.7611 - val_loss: 0.5407 - val_acc: 0.8373\n",
      "Epoch 14/50\n",
      "42000/42000 [==============================] - 7s 160us/step - loss: 0.7409 - acc: 0.7647 - val_loss: 0.5377 - val_acc: 0.8379\n",
      "Epoch 15/50\n",
      "42000/42000 [==============================] - 7s 159us/step - loss: 0.7383 - acc: 0.7653 - val_loss: 0.6075 - val_acc: 0.8163\n",
      "Epoch 16/50\n",
      "42000/42000 [==============================] - 7s 159us/step - loss: 0.7256 - acc: 0.7700 - val_loss: 0.5083 - val_acc: 0.8478\n",
      "Epoch 17/50\n",
      "42000/42000 [==============================] - 7s 158us/step - loss: 0.7066 - acc: 0.7759 - val_loss: 0.5157 - val_acc: 0.8451\n",
      "Epoch 18/50\n",
      "42000/42000 [==============================] - 7s 159us/step - loss: 0.6977 - acc: 0.7801 - val_loss: 0.4714 - val_acc: 0.8598\n",
      "Epoch 19/50\n",
      "42000/42000 [==============================] - 7s 159us/step - loss: 0.6952 - acc: 0.7795 - val_loss: 0.4634 - val_acc: 0.8654\n",
      "Epoch 20/50\n",
      "42000/42000 [==============================] - 7s 159us/step - loss: 0.6776 - acc: 0.7876 - val_loss: 0.4745 - val_acc: 0.8589\n",
      "Epoch 21/50\n",
      "42000/42000 [==============================] - 7s 159us/step - loss: 0.6663 - acc: 0.7874 - val_loss: 0.4636 - val_acc: 0.8632\n",
      "Epoch 22/50\n",
      "42000/42000 [==============================] - 7s 159us/step - loss: 0.6646 - acc: 0.7889 - val_loss: 0.4486 - val_acc: 0.8686\n",
      "Epoch 23/50\n",
      "42000/42000 [==============================] - 7s 159us/step - loss: 0.6588 - acc: 0.7909 - val_loss: 0.4443 - val_acc: 0.8678\n",
      "Epoch 24/50\n",
      "42000/42000 [==============================] - 7s 160us/step - loss: 0.6485 - acc: 0.7943 - val_loss: 0.4918 - val_acc: 0.8511\n",
      "Epoch 25/50\n",
      "42000/42000 [==============================] - 7s 159us/step - loss: 0.6432 - acc: 0.7967 - val_loss: 0.4552 - val_acc: 0.8645\n",
      "Epoch 26/50\n",
      "42000/42000 [==============================] - 7s 159us/step - loss: 0.6379 - acc: 0.7964 - val_loss: 0.4526 - val_acc: 0.8625\n",
      "Epoch 27/50\n",
      "42000/42000 [==============================] - 7s 159us/step - loss: 0.6333 - acc: 0.7967 - val_loss: 0.4578 - val_acc: 0.8634\n",
      "Epoch 28/50\n",
      "42000/42000 [==============================] - 7s 160us/step - loss: 0.6194 - acc: 0.8030 - val_loss: 0.4214 - val_acc: 0.8768\n",
      "Epoch 29/50\n",
      "42000/42000 [==============================] - 7s 159us/step - loss: 0.6212 - acc: 0.8025 - val_loss: 0.4188 - val_acc: 0.8766\n",
      "Epoch 30/50\n",
      "42000/42000 [==============================] - 7s 159us/step - loss: 0.6077 - acc: 0.8055 - val_loss: 0.4507 - val_acc: 0.8646\n",
      "Epoch 31/50\n",
      "42000/42000 [==============================] - 7s 159us/step - loss: 0.6034 - acc: 0.8092 - val_loss: 0.4069 - val_acc: 0.8802\n",
      "Epoch 32/50\n",
      "42000/42000 [==============================] - 7s 159us/step - loss: 0.6028 - acc: 0.8078 - val_loss: 0.4341 - val_acc: 0.8710\n",
      "Epoch 33/50\n",
      "42000/42000 [==============================] - 7s 159us/step - loss: 0.5990 - acc: 0.8093 - val_loss: 0.3949 - val_acc: 0.8847\n",
      "Epoch 34/50\n",
      "42000/42000 [==============================] - 7s 159us/step - loss: 0.5861 - acc: 0.8148 - val_loss: 0.4131 - val_acc: 0.8774\n",
      "Epoch 35/50\n",
      "42000/42000 [==============================] - 7s 168us/step - loss: 0.5906 - acc: 0.8115 - val_loss: 0.3921 - val_acc: 0.8873\n",
      "Epoch 36/50\n",
      "42000/42000 [==============================] - 7s 176us/step - loss: 0.5887 - acc: 0.8134 - val_loss: 0.4331 - val_acc: 0.8703\n",
      "Epoch 37/50\n",
      "42000/42000 [==============================] - 7s 175us/step - loss: 0.5818 - acc: 0.8130 - val_loss: 0.3780 - val_acc: 0.8884\n",
      "Epoch 38/50\n",
      "42000/42000 [==============================] - 8s 188us/step - loss: 0.5694 - acc: 0.8196 - val_loss: 0.3773 - val_acc: 0.8897\n",
      "Epoch 39/50\n",
      "42000/42000 [==============================] - 7s 178us/step - loss: 0.5747 - acc: 0.8159 - val_loss: 0.4427 - val_acc: 0.8666\n",
      "Epoch 40/50\n",
      "42000/42000 [==============================] - 7s 177us/step - loss: 0.5694 - acc: 0.8203 - val_loss: 0.3726 - val_acc: 0.8905\n",
      "Epoch 41/50\n",
      "42000/42000 [==============================] - 7s 176us/step - loss: 0.5689 - acc: 0.8183 - val_loss: 0.3766 - val_acc: 0.8890\n",
      "Epoch 42/50\n",
      "42000/42000 [==============================] - 7s 176us/step - loss: 0.5658 - acc: 0.8195 - val_loss: 0.3730 - val_acc: 0.8920\n",
      "Epoch 43/50\n",
      "42000/42000 [==============================] - 8s 179us/step - loss: 0.5574 - acc: 0.8200 - val_loss: 0.3706 - val_acc: 0.8909\n",
      "Epoch 44/50\n",
      "42000/42000 [==============================] - 8s 179us/step - loss: 0.5542 - acc: 0.8245 - val_loss: 0.3645 - val_acc: 0.8949\n",
      "Epoch 45/50\n",
      "42000/42000 [==============================] - 7s 177us/step - loss: 0.5557 - acc: 0.8227 - val_loss: 0.3975 - val_acc: 0.8801\n",
      "Epoch 46/50\n",
      "42000/42000 [==============================] - 7s 176us/step - loss: 0.5474 - acc: 0.8240 - val_loss: 0.4083 - val_acc: 0.8801\n",
      "Epoch 47/50\n",
      "42000/42000 [==============================] - 7s 175us/step - loss: 0.5458 - acc: 0.8261 - val_loss: 0.3699 - val_acc: 0.8912\n",
      "Epoch 48/50\n",
      "42000/42000 [==============================] - 7s 177us/step - loss: 0.5400 - acc: 0.8269 - val_loss: 0.3771 - val_acc: 0.8876\n",
      "Epoch 49/50\n",
      "42000/42000 [==============================] - 7s 177us/step - loss: 0.5406 - acc: 0.8273 - val_loss: 0.3890 - val_acc: 0.8857\n"
     ]
    },
    {
     "data": {
      "text/plain": [
       "<tensorflow.python.keras.callbacks.History at 0x1daa787ab38>"
      ]
     },
     "execution_count": 11,
     "metadata": {},
     "output_type": "execute_result"
    }
   ],
   "source": [
    "early_stopping = EarlyStopping(monitor='val_loss', patience=5, mode='min')\n",
    "mnist_model.fit(X_train,y_train,\n",
    "          validation_data=(X_val, y_val),\n",
    "          epochs=50,\n",
    "          batch_size=32, callbacks=[early_stopping])"
   ]
  },
  {
   "cell_type": "code",
   "execution_count": 12,
   "metadata": {},
   "outputs": [
    {
     "data": {
      "text/plain": [
       "array([1, 7, 2, ..., 7, 9, 2], dtype=int64)"
      ]
     },
     "execution_count": 12,
     "metadata": {},
     "output_type": "execute_result"
    }
   ],
   "source": [
    "pred = mnist_model.predict_classes(X_test)\n",
    "pred"
   ]
  },
  {
   "cell_type": "code",
   "execution_count": 13,
   "metadata": {},
   "outputs": [
    {
     "data": {
      "text/plain": [
       "(18000, 10)"
      ]
     },
     "execution_count": 13,
     "metadata": {},
     "output_type": "execute_result"
    }
   ],
   "source": [
    "y_test.shape"
   ]
  },
  {
   "cell_type": "code",
   "execution_count": 16,
   "metadata": {},
   "outputs": [
    {
     "data": {
      "text/plain": [
       "array([[1635,   28,   11,    9,   16,   10,   18,   25,   20,   42],\n",
       "       [  27, 1620,   17,   19,   44,   14,    7,   44,   20,   16],\n",
       "       [  16,   28, 1581,   24,   23,   16,    4,   48,   17,   46],\n",
       "       [  16,   56,   44, 1319,   19,  118,   19,   45,   51,   32],\n",
       "       [  15,   48,   25,   21, 1602,   21,   20,   17,   13,   30],\n",
       "       [  15,   18,    9,   68,   27, 1455,  100,   16,   39,   21],\n",
       "       [  56,   22,    8,   21,   29,   94, 1497,   18,   66,   21],\n",
       "       [  14,   59,   35,   22,   13,   17,    4, 1617,    9,   18],\n",
       "       [  29,   43,   20,   31,   16,   53,   64,   14, 1449,   93],\n",
       "       [  61,   39,   26,   22,   21,   38,   11,   19,   46, 1521]],\n",
       "      dtype=int64)"
      ]
     },
     "execution_count": 16,
     "metadata": {},
     "output_type": "execute_result"
    }
   ],
   "source": [
    "from sklearn.metrics import confusion_matrix\n",
    "confusion_matrix(y_test, pred)"
   ]
  },
  {
   "cell_type": "code",
   "execution_count": 17,
   "metadata": {},
   "outputs": [],
   "source": [
    "names = np.unique(y_test)"
   ]
  },
  {
   "cell_type": "code",
   "execution_count": 18,
   "metadata": {},
   "outputs": [
    {
     "name": "stdout",
     "output_type": "stream",
     "text": [
      "              precision    recall  f1-score   support\n",
      "\n",
      "           0       0.87      0.90      0.88      1814\n",
      "           1       0.83      0.89      0.86      1828\n",
      "           2       0.89      0.88      0.88      1803\n",
      "           3       0.85      0.77      0.81      1719\n",
      "           4       0.89      0.88      0.88      1812\n",
      "           5       0.79      0.82      0.81      1768\n",
      "           6       0.86      0.82      0.84      1832\n",
      "           7       0.87      0.89      0.88      1808\n",
      "           8       0.84      0.80      0.82      1812\n",
      "           9       0.83      0.84      0.83      1804\n",
      "\n",
      "   micro avg       0.85      0.85      0.85     18000\n",
      "   macro avg       0.85      0.85      0.85     18000\n",
      "weighted avg       0.85      0.85      0.85     18000\n",
      "\n"
     ]
    }
   ],
   "source": [
    "from sklearn.metrics import classification_report\n",
    "import numpy as np\n",
    "print(classification_report(y_test, pred))"
   ]
  },
  {
   "cell_type": "code",
   "execution_count": 19,
   "metadata": {},
   "outputs": [
    {
     "data": {
      "text/plain": [
       "<matplotlib.image.AxesImage at 0x1dae67922b0>"
      ]
     },
     "execution_count": 19,
     "metadata": {},
     "output_type": "execute_result"
    },
    {
     "data": {
      "image/png": "[encoded data removed]",
      "text/plain": [
       "<Figure size 432x288 with 1 Axes>"
      ]
     },
     "metadata": {},
     "output_type": "display_data"
    }
   ],
   "source": [
    "import matplotlib.pyplot as plt\n",
    "%matplotlib inline\n",
    "plt.imshow(X_test[609])"
   ]
  },
  {
   "cell_type": "code",
   "execution_count": 20,
   "metadata": {},
   "outputs": [
    {
     "data": {
      "text/plain": [
       "array([6], dtype=int64)"
      ]
     },
     "execution_count": 20,
     "metadata": {},
     "output_type": "execute_result"
    }
   ],
   "source": [
    "mnist_model.predict_classes(np.reshape(X_test[609],(-1,32,32)))"
   ]
  },
  {
   "cell_type": "markdown",
   "metadata": {},
   "source": [
    "# Conclusion"
   ]
  },
  {
   "cell_type": "markdown",
   "metadata": {},
   "source": [
    "Neural Network performance well when compared with tradition machine learning model - KNN. "
   ]
  },
  {
   "cell_type": "markdown",
   "metadata": {},
   "source": [
    "Accuracy: \n",
    " - KNN has the accuracy around 50%\n",
    " - Neural Network has the accuracy around 85%"
   ]
  },
  {
   "cell_type": "markdown",
   "metadata": {},
   "source": [
    "Also KNN model is slow while predicting when compared but Neural network is fast and more accurate."
   ]
  },
  {
   "cell_type": "code",
   "execution_count": null,
   "metadata": {},
   "outputs": [],
   "source": []
  }
 ],
 "metadata": {
  "kernelspec": {
   "display_name": "Python 3",
   "language": "python",
   "name": "python3"
  },
  "language_info": {
   "codemirror_mode": {
    "name": "ipython",
    "version": 3
   },
   "file_extension": ".py",
   "mimetype": "text/x-python",
   "name": "python",
   "nbconvert_exporter": "python",
   "pygments_lexer": "ipython3",
   "version": "3.6.5"
  }
 },
 "nbformat": 4,
 "nbformat_minor": 2
}
